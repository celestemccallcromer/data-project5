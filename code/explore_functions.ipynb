{
 "cells": [
  {
   "cell_type": "markdown",
   "metadata": {},
   "source": [
    "What is a function?\n",
    "-------------------\n",
    "\n",
    "A function is a piece of code that performs a particular task.  Defining one allows you to create new \"words\" that will  do the job for you, encapsulating a complex task into a simple command.  \n",
    "\n",
    "\n",
    "A function definition has to have several elements:\n",
    "=============\n",
    "\n",
    "1. The keyword \"def\", short for \"define\".\n",
    "2. The name of the function.  This can be any word you choose, but it is best if it is a word that means or helps you remember the task that the function performs, and it should not be a word that is already in use (a part of python), or in use in some other part of your program.\n",
    "3. Parentheses after the name.  \n",
    "4. A colon\n",
    "5. Indented underneath the line that names the function, it has to do something.\n",
    "\n"
   ]
  },
  {
   "cell_type": "code",
   "execution_count": 1,
   "metadata": {},
   "outputs": [
    {
     "name": "stdout",
     "output_type": "stream",
     "text": [
      "I did something\n"
     ]
    }
   ],
   "source": [
    "def doSomething():\n",
    "    print(\"I did something\")\n",
    "    \n",
    "doSomething()"
   ]
  },
  {
   "cell_type": "markdown",
   "metadata": {},
   "source": [
    "This was not a particularly exciting function, but it is a function that does something.\n",
    "\n",
    "1. It has the keyword **def**.\n",
    "2. It has a name that reminds me what the function does.  **doSomething**\n",
    "3. It has parentheses after the name.\n",
    "4. It has a colon after the parentheses.\n",
    "5. Indented underneath the line that names the function, it does something. **it prints**\n",
    "\n",
    "\n",
    "The final line of the cell above is not part of the function, it is the line that **calls** the function.  You call a function by saying its name with parentheses.  The program then does what the function tells it to."
   ]
  },
  {
   "cell_type": "markdown",
   "metadata": {},
   "source": [
    "Make a function that does something more useful\n",
    "---------------------------------------------\n",
    "\n",
    "Make a function that squares a number.  It should *print* the squared value of the input number"
   ]
  },
  {
   "cell_type": "code",
   "execution_count": 2,
   "metadata": {},
   "outputs": [
    {
     "name": "stdout",
     "output_type": "stream",
     "text": [
      "225\n"
     ]
    }
   ],
   "source": [
    "def square(number):\n",
    "    result = number*number\n",
    "    print(result)\n",
    "    \n",
    "square(15)"
   ]
  },
  {
   "cell_type": "markdown",
   "metadata": {},
   "source": [
    "Notice that this function for squaring still has all the required elements:\n",
    "\n",
    "1. It has the keyword **def**.\n",
    "2. It has a name that reminds me what the function does.  **square**\n",
    "3. It has parentheses after the name.\n",
    "4. It has a colon after the parentheses.\n",
    "5. Indented underneath the line that names the function, it does something. **it computes a value and prints it**\n",
    "\n",
    "What's new is that there is a word *inside* the parentheses, *number*, and when you call the function, there is an actual number inside the parentheses.\n",
    "\n",
    "When you call the function and put the number inside the parentheses, you are sending that number into the function.  Inside the function, python puts that number into the variable in the matching spot in the parentheses -- so the word \"number\" now is a variable that holds a particular value, in this case, the number 15.  \n",
    "\n",
    "Then the function squares the number by multiplying by itself, \n",
    "\n",
    "stores the result in the word \"result\", \n",
    "\n",
    "and then prints it.\n",
    "\n",
    "Try calling the function a few more times with different numbers sent or \"passed\" into the function."
   ]
  },
  {
   "cell_type": "code",
   "execution_count": 3,
   "metadata": {},
   "outputs": [
    {
     "name": "stdout",
     "output_type": "stream",
     "text": [
      "25\n",
      "0\n",
      "4\n"
     ]
    }
   ],
   "source": [
    "square(5)\n",
    "square(0)\n",
    "square(-2)"
   ]
  },
  {
   "cell_type": "markdown",
   "metadata": {},
   "source": [
    "What can you do in a function?\n",
    "-----------------------------\n",
    "\n",
    "So what all  can you do inside a function?  Anything you can do in the  rest of the program, but it's a good idea to try to limit every function to just one task -- that makes it easier to debug if something goes wrong.\n",
    "\n",
    "There's one additional thing that functions can do that we need to discuss at this point -- when they are finished, they can \"return\" a value back to the main program.  When you call the function you can \"pass\" values to it, when it finishes, it can \"return\" one thing back.  This can allow you to use that returned value in the rest of the program.\n",
    "\n"
   ]
  },
  {
   "cell_type": "code",
   "execution_count": 4,
   "metadata": {},
   "outputs": [],
   "source": [
    "def square(number):\n",
    "    result = number*number\n",
    "    return result\n",
    "    \n",
    "sq15 = square(15)"
   ]
  },
  {
   "cell_type": "markdown",
   "metadata": {},
   "source": [
    "It doesn't look like that code cell did anything, because it didn't print anything -- but it did do something.  It has now stored a value in the variable sq15.  What value?  Let's print it:\n"
   ]
  },
  {
   "cell_type": "code",
   "execution_count": 5,
   "metadata": {},
   "outputs": [
    {
     "name": "stdout",
     "output_type": "stream",
     "text": [
      "225\n"
     ]
    }
   ],
   "source": [
    "print(sq15)"
   ]
  },
  {
   "cell_type": "markdown",
   "metadata": {},
   "source": [
    "So the value that came from inside the function is now available for use outside the function.\n",
    "\n",
    "Let's make another function that takes two numbers, multiplies them together, then outputs the result.\n",
    "\n"
   ]
  },
  {
   "cell_type": "code",
   "execution_count": 6,
   "metadata": {},
   "outputs": [
    {
     "data": {
      "text/plain": [
       "24"
      ]
     },
     "execution_count": 6,
     "metadata": {},
     "output_type": "execute_result"
    }
   ],
   "source": [
    "def multiply(a,b):\n",
    "    result = a*b\n",
    "    return result\n",
    "\n",
    "multiply(6,4)"
   ]
  },
  {
   "cell_type": "markdown",
   "metadata": {},
   "source": [
    "When you pass values into the function like this, they are assigned to the holder variables inside the function in order.  So in that first example of calling the multiply function, inside the function the variable **a** ends up having the value **6** and **b** has the value **4**\n",
    "\n",
    "This is more important when you will do different things with the variables, for example, a division function:"
   ]
  },
  {
   "cell_type": "code",
   "execution_count": 7,
   "metadata": {},
   "outputs": [
    {
     "name": "stdout",
     "output_type": "stream",
     "text": [
      "6 divided by 3:   2.0\n",
      "3 divided by 6:   0.5\n"
     ]
    }
   ],
   "source": [
    "def divide(a,b):\n",
    "    result = a/b\n",
    "    return result\n",
    "\n",
    "print(\"6 divided by 3:  \", divide(6,3))\n",
    "print(\"3 divided by 6:  \", divide(3,6))"
   ]
  },
  {
   "cell_type": "markdown",
   "metadata": {},
   "source": [
    "Task 1\n",
    "-----\n",
    "\n",
    "Make a function that prints a number every time you call it.  It doesn't matter what the number is"
   ]
  },
  {
   "cell_type": "code",
   "execution_count": 2,
   "metadata": {},
   "outputs": [
    {
     "name": "stdout",
     "output_type": "stream",
     "text": [
      "13\n"
     ]
    }
   ],
   "source": [
    "def printthirteen():\n",
    "    print(\"13\")\n",
    "    \n",
    "printthirteen() "
   ]
  },
  {
   "cell_type": "code",
   "execution_count": 3,
   "metadata": {},
   "outputs": [
    {
     "name": "stdout",
     "output_type": "stream",
     "text": [
      "13\n"
     ]
    }
   ],
   "source": [
    "printthirteen() "
   ]
  },
  {
   "cell_type": "markdown",
   "metadata": {},
   "source": [
    "Task 2\n",
    "------\n",
    "Make a function that takes an input number and prints the result of dividing it by 3.\n",
    "\n"
   ]
  },
  {
   "cell_type": "code",
   "execution_count": 4,
   "metadata": {},
   "outputs": [
    {
     "name": "stdout",
     "output_type": "stream",
     "text": [
      "5.0\n"
     ]
    }
   ],
   "source": [
    "def divide(number):\n",
    "    result = number/3\n",
    "    print(result)\n",
    "\n",
    "divide(15) "
   ]
  },
  {
   "cell_type": "code",
   "execution_count": 5,
   "metadata": {},
   "outputs": [
    {
     "name": "stdout",
     "output_type": "stream",
     "text": [
      "40.0\n"
     ]
    }
   ],
   "source": [
    "divide(120) "
   ]
  },
  {
   "cell_type": "markdown",
   "metadata": {},
   "source": [
    "Task 3\n",
    "------\n",
    "\n",
    "Make a function that takes as input two numbers, then **returns** the sum of all positive integers *between* those two numbers.\n",
    "\n",
    "For example, if the input was 2 and 5, the returned value should be **7**, because 3+4 = 7.  Notice that 2 and 5 are not included because they are not *between* 2 and 5. \n",
    "\n",
    "This function will have to combine all the extra elements of multiple input values, a function body that does something substantial, and returning a value.  It will also be an example of the accumulator pattern."
   ]
  },
  {
   "cell_type": "code",
   "execution_count": 6,
   "metadata": {},
   "outputs": [
    {
     "data": {
      "text/plain": [
       "5"
      ]
     },
     "execution_count": 6,
     "metadata": {},
     "output_type": "execute_result"
    }
   ],
   "source": [
    "def sumbetween(a,b):\n",
    "    middle_sum = 0\n",
    "    for middle_value in range(a+1,b):\n",
    "        middle_sum = middle_sum + middle_value\n",
    "        a < middle_value < b\n",
    "    return middle_sum\n",
    "sumbetween(1,4) \n",
    "    "
   ]
  },
  {
   "cell_type": "code",
   "execution_count": 7,
   "metadata": {},
   "outputs": [
    {
     "data": {
      "text/plain": [
       "36"
      ]
     },
     "execution_count": 7,
     "metadata": {},
     "output_type": "execute_result"
    }
   ],
   "source": [
    "sumbetween(10,14) "
   ]
  },
  {
   "cell_type": "markdown",
   "metadata": {},
   "source": [
    "Task 4\n",
    "------\n",
    "\n",
    "\n",
    "I'll get you some new data to look at, in this case it is a data set of 144 thousand tweets harvested from Twitter in 2009.  The dataset was developed to aid in training algorithms to recognize the sentiment in human generated text.  The columns of the dataset are:\n",
    "\n",
    " * sentiment: a numerical score indicating the emotion inferred from the text of the tweet (0 = negative, 2=neutral, 4 =positive)  These scores were assigned by people reading the tweets.  \n",
    "\n",
    " * id: a unique numeric identifier for the particular tweet\n",
    "\n",
    " * datetime:  the date and time the tweet was sent\n",
    "\n",
    " * query: a column you can ignore for now\n",
    "\n",
    " * user: the username of the account that sent the tweet\n",
    "\n",
    " * text:  the actual text of the sent tweet"
   ]
  },
  {
   "cell_type": "code",
   "execution_count": 8,
   "metadata": {},
   "outputs": [],
   "source": [
    "import pandas as pd"
   ]
  },
  {
   "cell_type": "code",
   "execution_count": 9,
   "metadata": {},
   "outputs": [],
   "source": [
    "df = pd.read_csv('../data/twitter.10.csv', header=None, encoding=\"ISO-8859-1\")\n",
    "df.columns = ['sentiment', 'id', 'datetime', 'query', 'user', 'text']"
   ]
  },
  {
   "cell_type": "code",
   "execution_count": 10,
   "metadata": {},
   "outputs": [
    {
     "data": {
      "text/plain": [
       "105907"
      ]
     },
     "execution_count": 10,
     "metadata": {},
     "output_type": "execute_result"
    }
   ],
   "source": [
    "len(df.user.unique())"
   ]
  },
  {
   "cell_type": "markdown",
   "metadata": {},
   "source": [
    "There are 105907 unique users in this dataset.  Here are the first ten:\n"
   ]
  },
  {
   "cell_type": "code",
   "execution_count": 11,
   "metadata": {},
   "outputs": [
    {
     "data": {
      "text/plain": [
       "0         jacqqq_xo\n",
       "1           mykerob\n",
       "2           TukeGuy\n",
       "3          kevinlcc\n",
       "4           OStephy\n",
       "5       singingbell\n",
       "6    megsapatsfan12\n",
       "7            Danlol\n",
       "8          Wildaris\n",
       "9       bagthoughts\n",
       "Name: user, dtype: object"
      ]
     },
     "execution_count": 11,
     "metadata": {},
     "output_type": "execute_result"
    }
   ],
   "source": [
    "df['user'].head(10)"
   ]
  },
  {
   "cell_type": "markdown",
   "metadata": {},
   "source": [
    "Make a function that takes as input the dataframe and the name of a single user.  The function should return the number of tweets sent by that user.\n",
    "\n",
    "Then use it to find out how many tweets were sent by the first 5 names from the list just above.  Also find out how many tweets were sent by the account \"tweetpet\"."
   ]
  },
  {
   "cell_type": "code",
   "execution_count": 12,
   "metadata": {},
   "outputs": [
    {
     "data": {
      "text/plain": [
       "True"
      ]
     },
     "execution_count": 12,
     "metadata": {},
     "output_type": "execute_result"
    }
   ],
   "source": [
    "df.loc[0]['user']=='jacqqq_xo'"
   ]
  },
  {
   "cell_type": "code",
   "execution_count": 13,
   "metadata": {},
   "outputs": [
    {
     "ename": "SyntaxError",
     "evalue": "invalid syntax (<ipython-input-13-57bf96b50a58>, line 1)",
     "output_type": "error",
     "traceback": [
      "\u001b[1;36m  File \u001b[1;32m\"<ipython-input-13-57bf96b50a58>\"\u001b[1;36m, line \u001b[1;32m1\u001b[0m\n\u001b[1;33m    There were 297 tweets sent by the username \"tweetpet\"\u001b[0m\n\u001b[1;37m             ^\u001b[0m\n\u001b[1;31mSyntaxError\u001b[0m\u001b[1;31m:\u001b[0m invalid syntax\n"
     ]
    }
   ],
   "source": [
    "There were 297 tweets sent by the username \"tweetpet\""
   ]
  },
  {
   "cell_type": "code",
   "execution_count": null,
   "metadata": {},
   "outputs": [
    {
     "name": "stdout",
     "output_type": "stream",
     "text": [
      "1\n",
      "2\n",
      "3\n",
      "4\n",
      "5\n"
     ]
    }
   ],
   "source": [
    "#Use this function to find out how many tweets were sent by the first 5 names from the list\n",
    "\n",
    "number_tweets = 0\n",
    "user = list(df['user'].head(5))\n",
    "for tweet in df.index:\n",
    "    if df.loc[tweet]['user'] in user:\n",
    "        number_tweets = number_tweets + 1\n",
    "        print(number_tweets)"
   ]
  },
  {
   "cell_type": "markdown",
   "metadata": {},
   "source": [
    "The function you produce here is probably going to be really slow -- there are more elegant ways of accomplishing this task, but for now I want you to use the approach of writing your own function to practice that skill.  If your function doesn't seem to be working, please check in with me quickly so I can help determine if it is working but it's slow, or if it is in fact not working.\n",
    "\n",
    "Once you get the function to work, you can continue exploring the data set in ways that seem interesting to you, or you can submit the assignment as is."
   ]
  },
  {
   "cell_type": "code",
   "execution_count": null,
   "metadata": {},
   "outputs": [],
   "source": []
  },
  {
   "cell_type": "code",
   "execution_count": null,
   "metadata": {},
   "outputs": [],
   "source": []
  }
 ],
 "metadata": {
  "kernelspec": {
   "display_name": "Python 3",
   "language": "python",
   "name": "python3"
  },
  "language_info": {
   "codemirror_mode": {
    "name": "ipython",
    "version": 3
   },
   "file_extension": ".py",
   "mimetype": "text/x-python",
   "name": "python",
   "nbconvert_exporter": "python",
   "pygments_lexer": "ipython3",
   "version": "3.7.0"
  }
 },
 "nbformat": 4,
 "nbformat_minor": 2
}
